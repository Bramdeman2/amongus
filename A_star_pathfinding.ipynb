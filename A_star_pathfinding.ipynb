{
 "cells": [
  {
   "cell_type": "code",
   "execution_count": 3,
   "metadata": {},
   "outputs": [],
   "source": [
    "###pathfinder\n",
    "#according to the pseudocode in wikipedia"
   ]
  },
  {
   "cell_type": "code",
   "execution_count": 2,
   "metadata": {},
   "outputs": [],
   "source": [
    "import numpy as np"
   ]
  },
  {
   "cell_type": "code",
   "execution_count": 35,
   "metadata": {},
   "outputs": [],
   "source": [
    "def A_star(start, finish):\n",
    "    \n",
    "    finished = False\n",
    "    open_set = {start}\n",
    "    closed_set = set()\n",
    "    path = {}\n",
    "    \n",
    "    #function to calculate the distance between a node and the finish in order to calculate the costs\n",
    "    def distance(node1, node2):\n",
    "        x, y = node1\n",
    "        x_finish, y_finish = node2\n",
    "        dist = (x - x_finish)**2 + (y - y_finish)**2\n",
    "        return dist\n",
    "    \n",
    "    #this score is the absolute score from the start point up untill the current point\n",
    "    score_tobegin = {}\n",
    "    score_tobegin[start] = 0\n",
    "    \n",
    "    #guess scores scores the estimater score from a point to the finish\n",
    "    guess_scores = {}\n",
    "    guess_scores[start] = distance(start, finish)\n",
    "    \n",
    "    \n",
    "    while open_set:\n",
    "        \n",
    "        guess = 1000\n",
    "        #the current node is the lowest scoring guess point, which is in the guess_scores\n",
    "        for node in open_set:\n",
    "            if guess_scores[node] < guess:\n",
    "                guess = guess_scores[node]\n",
    "                bestnode = node\n",
    "        \n",
    "        current_node = bestnode\n",
    "        print(current_node)\n",
    "        \n",
    "        #find neighbours of current best node and check which step is the best improvement\n",
    "        #neighbours = self.model.grid.get_neighborhood(current_node, True, False, 1)\n",
    "        neighbours = [(0, 1), (1, 0), (1, 1)]\n",
    "        \n",
    "        open_set.remove(current_node)\n",
    "        closed_set.add(current_node)\n",
    "        for neighbour in neighbours:\n",
    "            \n",
    "            #first check of this step not an obstacle SO CHANGE THE FALSE STATEMENT TO CHECK FOR OBSTACLE\n",
    "            if False:\n",
    "                closed_set.add(neighbour)\n",
    "                continue\n",
    "                \n",
    "            #check if the step is in the closed list\n",
    "            if neighbour in closed_set:\n",
    "                continue\n",
    "            \n",
    "            #calculate the cost of travelling to the neighbour from the begin and estimate cost to the finish\n",
    "            score_from_begin = score_tobegin[current_node] + 1\n",
    "            score_to_finish = distance(neighbour, finish)\n",
    "            total_score = score_from_begin + score_to_finish\n",
    "            \n",
    "            #check if the point is already int the open set, if so check if the path is slower, if so continue with another neighbour\n",
    "            if neighbour in open_set:\n",
    "                if score_tobegin[neighbour] < score_from_begin:\n",
    "                    continue\n",
    "                \n",
    "            open_set.add(neighbour)\n",
    "            score_tobegin[neighbour] = score_from_begin\n",
    "            guess_scores[neighbour] = total_score\n",
    "            path[neighbour] = current_node\n",
    "            \n",
    "            if neighbour == finish:\n",
    "                finished = True\n",
    "                break\n",
    "            \n",
    "    return path"
   ]
  },
  {
   "cell_type": "code",
   "execution_count": 36,
   "metadata": {},
   "outputs": [
    {
     "name": "stdout",
     "output_type": "stream",
     "text": [
      "(0, 0)\n",
      "(0, 1)\n",
      "6\n",
      "(1, 0)\n",
      "6\n",
      "(1, 1)\n",
      "3\n",
      "(1, 1)\n",
      "(0, 1)\n",
      "7\n",
      "(1, 0)\n",
      "7\n",
      "(0, 1)\n",
      "(1, 0)\n",
      "7\n",
      "(1, 0)\n"
     ]
    },
    {
     "data": {
      "text/plain": [
       "{(0, 1): (0, 0), (1, 0): (0, 0), (1, 1): (0, 0)}"
      ]
     },
     "execution_count": 36,
     "metadata": {},
     "output_type": "execute_result"
    }
   ],
   "source": [
    "A_star((0, 0), (2, 2))"
   ]
  }
 ],
 "metadata": {
  "kernelspec": {
   "display_name": "Python 3",
   "language": "python",
   "name": "python3"
  },
  "language_info": {
   "codemirror_mode": {
    "name": "ipython",
    "version": 3
   },
   "file_extension": ".py",
   "mimetype": "text/x-python",
   "name": "python",
   "nbconvert_exporter": "python",
   "pygments_lexer": "ipython3",
   "version": "3.8.5"
  }
 },
 "nbformat": 4,
 "nbformat_minor": 4
}
