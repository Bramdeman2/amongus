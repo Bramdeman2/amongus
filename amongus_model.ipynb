{
 "metadata": {
  "language_info": {
   "codemirror_mode": {
    "name": "ipython",
    "version": 3
   },
   "file_extension": ".py",
   "mimetype": "text/x-python",
   "name": "python",
   "nbconvert_exporter": "python",
   "pygments_lexer": "ipython3",
   "version": "3.8.3-final"
  },
  "orig_nbformat": 2,
  "kernelspec": {
   "name": "python3",
   "display_name": "Python 3",
   "language": "python"
  }
 },
 "nbformat": 4,
 "nbformat_minor": 2,
 "cells": [
  {
   "cell_type": "code",
   "execution_count": 56,
   "metadata": {},
   "outputs": [],
   "source": [
    "from mesa import Model\n",
    "from mesa import Agent\n",
    "from mesa.space import MultiGrid\n",
    "from mesa.time import RandomActivation\n",
    "from mesa.datacollection import DataCollector\n",
    "import random"
   ]
  },
  {
   "cell_type": "code",
   "execution_count": 90,
   "metadata": {},
   "outputs": [],
   "source": [
    "class AmongUs(Model):\n",
    "    def __init__(self, map, n_crew, n_impo):\n",
    "        super().__init__()\n",
    "\n",
    "        # generate grid\n",
    "        # self.height = 114\n",
    "        # self.width = 114\n",
    "        self.height = 60\n",
    "        self.width = 60\n",
    "        self.grid = MultiGrid(self.width, self.height, torus=True)\n",
    "\n",
    "        # create schedulers for agents\n",
    "        self.schedule_Crewmate = RandomActivation(self)\n",
    "        \n",
    "        # initialize agents\n",
    "        self.n_crew = n_crew\n",
    "        self.n_impo = n_impo\n",
    "        self.spawn_players()\n",
    "\n",
    "    def spawn_players(self):\n",
    "        # generate crewmates\n",
    "        for _ in range(self.n_crew):\n",
    "            self.new_agent(Crewmate, (5, 5))\n",
    "\n",
    "        # generate imposters\n",
    "        for _ in range(self.n_impo):\n",
    "            self.new_agent(Imposter, (5, 5))\n",
    "\n",
    "    def new_agent(self, agent_type, pos):\n",
    "        '''\n",
    "        Method that creates a new agent, and adds it to the correct scheduler.\n",
    "        '''\n",
    "        agent = agent_type(self.next_id(), self, pos)\n",
    "\n",
    "        self.grid.place_agent(agent, pos)\n",
    "        getattr(self, f'schedule_{agent_type.__name__}').add(agent)\n",
    "\n",
    "        \n",
    "    def step(self):\n",
    "        '''\n",
    "        Method that steps every agent. \n",
    "        \n",
    "        Prevents applying step on new agents by creating a local list.\n",
    "        '''\n",
    "\n",
    "        self.schedule_Crewmate.step()\n",
    "\n",
    "        # self.datacollector.collect(self)\n",
    "\n",
    "    def play_match(self, step_count=50):\n",
    "        '''\n",
    "        Method that runs the model for a specific amount of steps.\n",
    "        '''\n",
    "        for i in range(step_count):\n",
    "            self.step()\n"
   ]
  },
  {
   "cell_type": "code",
   "execution_count": 91,
   "metadata": {},
   "outputs": [],
   "source": [
    "class Crewmate(Agent):\n",
    "    def __init__(self, unique_id, model, init_pos):\n",
    "        super().__init__(unique_id, model)\n",
    "        self.pos = init_pos\n",
    "\n",
    "    def step(self):\n",
    "        '''\n",
    "        This method should get the neighbouring cells (Moore's neighbourhood), select one, and move the agent           to this cell.\n",
    "        '''\n",
    "        grid = self.model.grid\n",
    "        neighborhood = grid.get_neighborhood(self.pos, True)\n",
    "        grid.move_agent(self, random.choice(neighborhood))"
   ]
  },
  {
   "cell_type": "code",
   "execution_count": 92,
   "metadata": {},
   "outputs": [],
   "source": [
    "amongUs = AmongUs('map', 3, 0)\n",
    "\n",
    "amongUs.play_match()"
   ]
  },
  {
   "cell_type": "code",
   "execution_count": null,
   "metadata": {},
   "outputs": [],
   "source": []
  }
 ]
}